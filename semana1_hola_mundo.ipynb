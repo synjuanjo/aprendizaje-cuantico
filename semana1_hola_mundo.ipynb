{
 "cells": [
  {
   "cell_type": "code",
   "execution_count": 2,
   "id": "608faf33-74dd-4595-abb3-37aa25e60cd7",
   "metadata": {},
   "outputs": [
    {
     "name": "stdout",
     "output_type": "stream",
     "text": [
      "Hola, mundo cuántico desde mi MacBook\n"
     ]
    }
   ],
   "source": [
    "print(\"Hola, mundo cuántico desde mi MacBook\")"
   ]
  },
  {
   "cell_type": "code",
   "execution_count": null,
   "id": "7fceb696-eb24-474b-843f-6b570656dd64",
   "metadata": {},
   "outputs": [],
   "source": []
  }
 ],
 "metadata": {
  "kernelspec": {
   "display_name": "Python 3 (ipykernel)",
   "language": "python",
   "name": "python3"
  },
  "language_info": {
   "codemirror_mode": {
    "name": "ipython",
    "version": 3
   },
   "file_extension": ".py",
   "mimetype": "text/x-python",
   "name": "python",
   "nbconvert_exporter": "python",
   "pygments_lexer": "ipython3",
   "version": "3.13.5"
  }
 },
 "nbformat": 4,
 "nbformat_minor": 5
}
